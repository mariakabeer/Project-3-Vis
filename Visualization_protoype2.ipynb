{
 "cells": [
  {
   "cell_type": "code",
   "execution_count": 1,
   "metadata": {},
   "outputs": [],
   "source": [
    "import psycopg2\n",
    "import pandas as pd\n",
    "import json\n",
    "import folium\n",
    "import branca.colormap as cm"
   ]
  },
  {
   "cell_type": "code",
   "execution_count": null,
   "metadata": {},
   "outputs": [],
   "source": [
    "# Load the GeoJSON file with county boundaries\n",
    "geojson_file_path = 'Boundaries.geojson'  \n",
    "\n",
    "# Load the GeoJSON data\n",
    "with open(geojson_file_path) as f:\n",
    "    geojson_data = json.load(f)"
   ]
  },
  {
   "cell_type": "code",
   "execution_count": null,
   "metadata": {},
   "outputs": [],
   "source": [
    "# Function to get coordinates for a county\n",
    "def get_coordinates_for_county(county_name):\n",
    "    # Iterate through GeoJSON features to find the matching county\n",
    "    for feature in geojson_data['features']:\n",
    "        if feature['properties']['name'] == county_name:  \n",
    "            # Extract the coordinates of the boundary\n",
    "            return feature['geometry']['coordinates']\n",
    "    # Default to Ohio center if county is not found\n",
    "    return [40.4173, -82.9071]  # Default Ohio center coordinates\n",
    "\n",
    "# Function to connect to PostgreSQL and retrieve data\n",
    "def get_data_from_postgres(query):\n",
    "    try:\n",
    "        # Use the credentials from config.py\n",
    "        connection = psycopg2.connect(\n",
    "            host=db_config['host'],\n",
    "            database=db_config['database'],\n",
    "            user=db_config['user'],\n",
    "            password=db_config['password'],\n",
    "            port=db_config['port']\n",
    "        )\n",
    "        cursor = connection.cursor()\n",
    "        cursor.execute(query)\n",
    "        data = cursor.fetchall()\n",
    "        columns = [desc[0] for desc in cursor.description]\n",
    "        df = pd.DataFrame(data, columns=columns)\n",
    "        return df\n",
    "\n",
    "    except Exception as e:\n",
    "        print(f\"Error: {e}\")\n",
    "    finally:\n",
    "        if cursor:\n",
    "            cursor.close()\n",
    "        if connection:\n",
    "            connection.close()"
   ]
  },
  {
   "cell_type": "code",
   "execution_count": null,
   "metadata": {},
   "outputs": [],
   "source": [
    "# Query to fetch data for the years 2020, 2021, 2022, and 2023\n",
    "query = \"\"\"\n",
    "    SELECT county_name, year, deaths \n",
    "    FROM overdose_deaths \n",
    "    WHERE year IN (2020, 2021, 2022, 2023)\n",
    "\"\"\"\n",
    "overdose_data = get_data_from_postgres(query)\n",
    "\n",
    "# Iterate over the rows of the DataFrame\n",
    "for index, row in overdose_data.iterrows():\n",
    "    # Extract the relevant information\n",
    "    county_name = row['county_name']\n",
    "    deaths = row['deaths']\n",
    "    year = row['year']  # Get the year from the dataset\n",
    "\n",
    "    # Fetch the coordinates for the county\n",
    "    county_coordinates = get_coordinates_for_county(county_name)\n",
    "\n",
    "    # Print the result with the county, year, deaths, and coordinates\n",
    "    print(f\"County: {county_name}, Year: {year}, Deaths: {deaths}, Coordinates: {county_coordinates}\")\n"
   ]
  },
  {
   "cell_type": "code",
   "execution_count": null,
   "metadata": {},
   "outputs": [],
   "source": [
    "# Split the data by year\n",
    "data_2020 = overdose_data[overdose_data[\"year\"] == 2020]\n",
    "data_2021 = overdose_data[overdose_data[\"year\"] == 2021]\n",
    "data_2022 = overdose_data[overdose_data[\"year\"] == 2022]\n",
    "data_2023 = overdose_data[overdose_data[\"year\"] == 2023]\n"
   ]
  },
  {
   "cell_type": "code",
   "execution_count": null,
   "metadata": {},
   "outputs": [],
   "source": [
    "# Initialize map over Ohio\n",
    "map =  folium.Map(location=[39.9612, -82.9988], zoom_start=8)\n",
    "\n",
    "# Creates colormap scale and legend\n",
    "colormap = cm.linear.YlOrRd_05.scale(0,10000).to_step(10)\n",
    "colormap.caption = \"Provisional Drug Overdose Deaths\"\n",
    "map.add_child(colormap)\n",
    "\n",
    "# Function to create each overlay layer\n",
    "# name = name of layer\n",
    "# data = dataframe with county name, death count, geometry of boundaries\n",
    "# startingOverlay = Boolean for if layer is shown at map initialization\n",
    "def yearOverlay(name, data, startingOverlay):\n",
    "    \n",
    "    # Creates series of death counts with county name as index. Used for colormap.\n",
    "    series = data.set_index(\"COUNTYNAME\")[\"Provisional Drug Overdose Deaths\"]\n",
    "\n",
    "    # Creates overlay layer\n",
    "    folium.GeoJson(data,\n",
    "               name = name,\n",
    "               show = startingOverlay,\n",
    "               style_function=lambda feature: {\n",
    "                   \"fillColor\": colormap(series[feature[\"properties\"][\"COUNTYNAME\"]]), # Uses colormap scaling to select fill color\n",
    "                   \"fillOpacity\": .6,\n",
    "                   \"color\": \"black\",\n",
    "                   \"weight\": 2\n",
    "               },\n",
    "               popup=folium.GeoJsonPopup(fields=[\"COUNTYNAME\", \"Provisional Drug Overdose Deaths\"], aliases=[\"County\", \"Deaths\"]),\n",
    "               popup_keep_highlighted=True,\n",
    "               tooltip=folium.GeoJsonTooltip(fields=[\"COUNTYNAME\"], aliases=[\"County\"])\n",
    "               ).add_to(map)\n",
    "\n",
    "# Run function for each year of data\n",
    "yearOverlay(\"2020\", data_2020, True)\n",
    "yearOverlay(\"2021\", data_2021, False)\n",
    "yearOverlay(\"2022\", data_2022, False)\n",
    "yearOverlay(\"2023\", data_2023, False)\n",
    "\n",
    "# Add layer control\n",
    "folium.LayerControl().add_to(map)\n",
    "\n",
    "# WHEN COMPLETE ADD\n",
    "# map.save('ohio_overdose_map.html')\n",
    "map"
   ]
  }
 ],
 "metadata": {
  "kernelspec": {
   "display_name": "base",
   "language": "python",
   "name": "python3"
  },
  "language_info": {
   "codemirror_mode": {
    "name": "ipython",
    "version": 3
   },
   "file_extension": ".py",
   "mimetype": "text/x-python",
   "name": "python",
   "nbconvert_exporter": "python",
   "pygments_lexer": "ipython3",
   "version": "3.11.7"
  }
 },
 "nbformat": 4,
 "nbformat_minor": 2
}
